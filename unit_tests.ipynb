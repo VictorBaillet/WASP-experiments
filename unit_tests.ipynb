{
 "cells": [
  {
   "cell_type": "code",
   "execution_count": 1,
   "id": "d1020c77-c5d8-4fc6-9eab-2daa48340a9b",
   "metadata": {},
   "outputs": [],
   "source": [
    "import numpy as np\n",
    "import pandas as pd\n",
    "import matplotlib.pyplot as plt\n",
    "from tqdm import tqdm\n",
    "\n",
    "import pickle\n",
    "import os\n",
    "import time\n",
    "\n",
    "from utils.generate_data import *\n",
    "from utils.sub_sampler import *\n",
    "from utils.compute_barycenter import *"
   ]
  },
  {
   "cell_type": "markdown",
   "id": "c47a2fb1-ef30-4259-aa24-62ed8598323f",
   "metadata": {},
   "source": [
    "### Sampler"
   ]
  },
  {
   "cell_type": "code",
   "execution_count": 10,
   "id": "4b2c2676-592f-4894-9033-661711f07b1b",
   "metadata": {},
   "outputs": [],
   "source": [
    "data, clusters = gen_data(nobs=2)\n",
    "data = np.array(data)"
   ]
  },
  {
   "cell_type": "code",
   "execution_count": 11,
   "id": "b7e4cad5-dfa5-4883-9b29-1ee0a43063b1",
   "metadata": {},
   "outputs": [
    {
     "name": "stderr",
     "output_type": "stream",
     "text": [
      "100%|█████████████████████████████████████████████████████████████████████████████| 10001/10001 [07:20<00:00, 22.68it/s]\n"
     ]
    }
   ],
   "source": [
    "res = mvn_wasp_mix(data)"
   ]
  },
  {
   "cell_type": "code",
   "execution_count": 9,
   "id": "b209b9a3-0cbd-4729-ab8c-e0009ed5b773",
   "metadata": {},
   "outputs": [
    {
     "ename": "NameError",
     "evalue": "name 'res' is not defined",
     "output_type": "error",
     "traceback": [
      "\u001b[0;31m---------------------------------------------------------------------------\u001b[0m",
      "\u001b[0;31mNameError\u001b[0m                                 Traceback (most recent call last)",
      "Cell \u001b[0;32mIn[9], line 1\u001b[0m\n\u001b[0;32m----> 1\u001b[0m plt\u001b[38;5;241m.\u001b[39mscatter(x\u001b[38;5;241m=\u001b[39m\u001b[43mres\u001b[49m[\u001b[38;5;124m'\u001b[39m\u001b[38;5;124mmu\u001b[39m\u001b[38;5;124m'\u001b[39m][:, \u001b[38;5;241m0\u001b[39m, \u001b[38;5;241m0\u001b[39m], y \u001b[38;5;241m=\u001b[39mres[\u001b[38;5;124m'\u001b[39m\u001b[38;5;124mmu\u001b[39m\u001b[38;5;124m'\u001b[39m][:, \u001b[38;5;241m0\u001b[39m, \u001b[38;5;241m1\u001b[39m])\n\u001b[1;32m      2\u001b[0m plt\u001b[38;5;241m.\u001b[39mscatter(x\u001b[38;5;241m=\u001b[39mres[\u001b[38;5;124m'\u001b[39m\u001b[38;5;124mmu\u001b[39m\u001b[38;5;124m'\u001b[39m][:, \u001b[38;5;241m1\u001b[39m, \u001b[38;5;241m0\u001b[39m], y \u001b[38;5;241m=\u001b[39mres[\u001b[38;5;124m'\u001b[39m\u001b[38;5;124mmu\u001b[39m\u001b[38;5;124m'\u001b[39m][:, \u001b[38;5;241m1\u001b[39m, \u001b[38;5;241m1\u001b[39m])\n",
      "\u001b[0;31mNameError\u001b[0m: name 'res' is not defined"
     ]
    }
   ],
   "source": [
    "plt.scatter(x=res['mu'][:, 0, 0], y =res['mu'][:, 0, 1])\n",
    "plt.scatter(x=res['mu'][:, 1, 0], y =res['mu'][:, 1, 1])"
   ]
  },
  {
   "cell_type": "markdown",
   "id": "65619d0e-edda-43e1-b12e-54bd8bfb001c",
   "metadata": {},
   "source": [
    "### Linear Program Solver"
   ]
  },
  {
   "cell_type": "code",
   "execution_count": 12,
   "id": "c71bf08b-a2bc-4415-914b-db409965cabd",
   "metadata": {},
   "outputs": [
    {
     "name": "stdout",
     "output_type": "stream",
     "text": [
      "Solution: [2. 3.]\n",
      "Output: {'status': 0, 'message': 'Optimization terminated successfully.', 'solve_time': 0.010811805725097656}\n"
     ]
    }
   ],
   "source": [
    "# Adjusted example usage with inequality constraints\n",
    "A_ub = np.array([[-1, 1], [2, -1], [-1, 0]])\n",
    "b_ub = np.array([1, 1, 1])\n",
    "cvec = np.array([-1, -2])\n",
    "\n",
    "xsol, output = call_lp_solver(A_ub, b_ub, cvec, solver='highs')\n",
    "print(\"Solution:\", xsol)\n",
    "print(\"Output:\", output)"
   ]
  },
  {
   "cell_type": "code",
   "execution_count": null,
   "id": "91056fb7-ccf5-44a1-b011-40565fadca89",
   "metadata": {},
   "outputs": [],
   "source": []
  }
 ],
 "metadata": {
  "kernelspec": {
   "display_name": "wasp_experiments",
   "language": "python",
   "name": "wasp_experiments"
  },
  "language_info": {
   "codemirror_mode": {
    "name": "ipython",
    "version": 3
   },
   "file_extension": ".py",
   "mimetype": "text/x-python",
   "name": "python",
   "nbconvert_exporter": "python",
   "pygments_lexer": "ipython3",
   "version": "3.9.18"
  }
 },
 "nbformat": 4,
 "nbformat_minor": 5
}
